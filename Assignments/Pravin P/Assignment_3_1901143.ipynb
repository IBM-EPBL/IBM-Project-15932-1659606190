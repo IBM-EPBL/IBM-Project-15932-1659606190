{
  "nbformat": 4,
  "nbformat_minor": 0,
  "metadata": {
    "colab": {
      "provenance": []
    },
    "kernelspec": {
      "name": "python3",
      "display_name": "Python 3"
    },
    "language_info": {
      "name": "python"
    }
  },
  "cells": [
    {
      "cell_type": "code",
      "execution_count": 1,
      "metadata": {
        "id": "q3fj44o4UsB6"
      },
      "outputs": [],
      "source": [
        "import tensorflow as tf\n",
        "from tensorflow import keras\n",
        "import matplotlib.pyplot as plt\n",
        "import numpy as np\n",
        "from os import listdir\n",
        "from os.path import join\n",
        "import pandas\n",
        "import cv2\n",
        "import os\n",
        "import random"
      ]
    },
    {
      "cell_type": "code",
      "source": [
        "data_lead = '/content/drive/MyDrive/IBM ASSIGNMENT 3/Flowers-Dataset/flowers'\n",
        "folders_lead = os.listdir(data_lead)\n",
        "\n",
        "print(folders_lead)"
      ],
      "metadata": {
        "colab": {
          "base_uri": "https://localhost:8080/"
        },
        "id": "21hZoj9xbMXs",
        "outputId": "21d4f280-ed81-4cfd-9271-952a5090f1c8"
      },
      "execution_count": 6,
      "outputs": [
        {
          "output_type": "stream",
          "name": "stdout",
          "text": [
            "['sunflower', 'daisy', 'tulip', 'rose', 'dandelion']\n"
          ]
        }
      ]
    },
    {
      "cell_type": "code",
      "source": [
        "image_names = []\n",
        "train_labels = []\n",
        "train_images = []\n",
        "\n",
        "size = 64,64\n",
        "\n",
        "for folder in folders_lead:\n",
        "    for file in os.listdir(os.path.join(data_lead,folder)):\n",
        "        if file.endswith(\"jpg\"):\n",
        "            image_names.append(os.path.join(data_lead,folder,file))\n",
        "            train_labels.append(folder)\n",
        "            img = cv2.imread(os.path.join(data_lead,folder,file))\n",
        "            im = cv2.resize(img,size)\n",
        "            train_images.append(im)\n",
        "        else:\n",
        "            continue\n",
        "\n"
      ],
      "metadata": {
        "id": "oC1uLvj5XmGN"
      },
      "execution_count": 7,
      "outputs": []
    },
    {
      "cell_type": "code",
      "source": [
        "train = np.array(train_images)\n",
        "\n",
        "train.shape"
      ],
      "metadata": {
        "colab": {
          "base_uri": "https://localhost:8080/"
        },
        "id": "s4HtJ0p1YdnL",
        "outputId": "3dc7b282-4a40-4b45-f2af-1e0474a8ff78"
      },
      "execution_count": 8,
      "outputs": [
        {
          "output_type": "execute_result",
          "data": {
            "text/plain": [
              "(4340, 64, 64, 3)"
            ]
          },
          "metadata": {},
          "execution_count": 8
        }
      ]
    },
    {
      "cell_type": "code",
      "source": [
        "train = train.astype('float32') / 255.0"
      ],
      "metadata": {
        "id": "u7QxVc6ZYgk7"
      },
      "execution_count": 9,
      "outputs": []
    },
    {
      "cell_type": "code",
      "source": [
        "label_dummies = pandas.get_dummies(train_labels)\n",
        "\n",
        "labels =  label_dummies.values.argmax(1)"
      ],
      "metadata": {
        "id": "_uxWQyCYYiME"
      },
      "execution_count": 10,
      "outputs": []
    },
    {
      "cell_type": "code",
      "source": [
        "pandas.unique(train_labels)"
      ],
      "metadata": {
        "colab": {
          "base_uri": "https://localhost:8080/"
        },
        "id": "u6Kb1PvOYiC7",
        "outputId": "2c80faab-b1d6-4e63-900f-1fda76303d85"
      },
      "execution_count": 11,
      "outputs": [
        {
          "output_type": "execute_result",
          "data": {
            "text/plain": [
              "array(['sunflower', 'daisy', 'tulip', 'rose', 'dandelion'], dtype=object)"
            ]
          },
          "metadata": {},
          "execution_count": 11
        }
      ]
    },
    {
      "cell_type": "code",
      "source": [
        "union_list = list(zip(train, labels))\n",
        "random.shuffle(union_list)\n",
        "train,labels = zip(*union_list)\n",
        "\n",
        "# Convert the shuffled list to numpy array type\n",
        "\n",
        "train = np.array(train)\n",
        "labels = np.array(labels)"
      ],
      "metadata": {
        "id": "F50ysJxWYmvU"
      },
      "execution_count": 12,
      "outputs": []
    },
    {
      "cell_type": "code",
      "source": [
        "\n",
        "\n",
        "model = keras.Sequential([\n",
        "    keras.layers.Flatten(input_shape=(64,64,3)),\n",
        "    keras.layers.Dense(256, activation=tf.nn.relu),\n",
        "    keras.layers.Dense(128, activation=tf.nn.relu),\n",
        "    keras.layers.Dense(6, activation=tf.nn.softmax)\n",
        "])\n",
        "\n"
      ],
      "metadata": {
        "id": "S6jZ-WtpYodk"
      },
      "execution_count": 13,
      "outputs": []
    },
    {
      "cell_type": "code",
      "source": [
        "model.summary()"
      ],
      "metadata": {
        "colab": {
          "base_uri": "https://localhost:8080/"
        },
        "id": "QDumiHyNYokr",
        "outputId": "082a6353-c28a-4735-c77c-a53b18e35503"
      },
      "execution_count": 14,
      "outputs": [
        {
          "output_type": "stream",
          "name": "stdout",
          "text": [
            "Model: \"sequential\"\n",
            "_________________________________________________________________\n",
            " Layer (type)                Output Shape              Param #   \n",
            "=================================================================\n",
            " flatten (Flatten)           (None, 12288)             0         \n",
            "                                                                 \n",
            " dense (Dense)               (None, 256)               3145984   \n",
            "                                                                 \n",
            " dense_1 (Dense)             (None, 128)               32896     \n",
            "                                                                 \n",
            " dense_2 (Dense)             (None, 6)                 774       \n",
            "                                                                 \n",
            "=================================================================\n",
            "Total params: 3,179,654\n",
            "Trainable params: 3,179,654\n",
            "Non-trainable params: 0\n",
            "_________________________________________________________________\n"
          ]
        }
      ]
    },
    {
      "cell_type": "code",
      "source": [
        "model.compile(optimizer= tf.optimizers.Adam(), \n",
        "              loss='sparse_categorical_crossentropy',\n",
        "              metrics=['accuracy'])"
      ],
      "metadata": {
        "id": "wRE-u60ZYttW"
      },
      "execution_count": 15,
      "outputs": []
    },
    {
      "cell_type": "code",
      "source": [
        "model.fit(train,labels, epochs=15)"
      ],
      "metadata": {
        "colab": {
          "base_uri": "https://localhost:8080/"
        },
        "id": "BvDpFmzsYw84",
        "outputId": "64852724-6067-4be2-9f2d-673940a182af"
      },
      "execution_count": 16,
      "outputs": [
        {
          "output_type": "stream",
          "name": "stdout",
          "text": [
            "Epoch 1/15\n",
            "136/136 [==============================] - 4s 24ms/step - loss: 1.8628 - accuracy: 0.3523\n",
            "Epoch 2/15\n",
            "136/136 [==============================] - 3s 24ms/step - loss: 1.3434 - accuracy: 0.4385\n",
            "Epoch 3/15\n",
            "136/136 [==============================] - 3s 23ms/step - loss: 1.2490 - accuracy: 0.4760\n",
            "Epoch 4/15\n",
            "136/136 [==============================] - 3s 23ms/step - loss: 1.1895 - accuracy: 0.4998\n",
            "Epoch 5/15\n",
            "136/136 [==============================] - 4s 27ms/step - loss: 1.1723 - accuracy: 0.5127\n",
            "Epoch 6/15\n",
            "136/136 [==============================] - 4s 26ms/step - loss: 1.1448 - accuracy: 0.5304\n",
            "Epoch 7/15\n",
            "136/136 [==============================] - 4s 30ms/step - loss: 1.0984 - accuracy: 0.5512\n",
            "Epoch 8/15\n",
            "136/136 [==============================] - 3s 22ms/step - loss: 1.0758 - accuracy: 0.5675\n",
            "Epoch 9/15\n",
            "136/136 [==============================] - 3s 22ms/step - loss: 1.0231 - accuracy: 0.5954\n",
            "Epoch 10/15\n",
            "136/136 [==============================] - 3s 25ms/step - loss: 0.9873 - accuracy: 0.6076\n",
            "Epoch 11/15\n",
            "136/136 [==============================] - 3s 24ms/step - loss: 0.9850 - accuracy: 0.6134\n",
            "Epoch 12/15\n",
            "136/136 [==============================] - 3s 24ms/step - loss: 0.9569 - accuracy: 0.6302\n",
            "Epoch 13/15\n",
            "136/136 [==============================] - 4s 27ms/step - loss: 0.8837 - accuracy: 0.6604\n",
            "Epoch 14/15\n",
            "136/136 [==============================] - 4s 28ms/step - loss: 0.8426 - accuracy: 0.6788\n",
            "Epoch 15/15\n",
            "136/136 [==============================] - 4s 26ms/step - loss: 0.8192 - accuracy: 0.6806\n"
          ]
        },
        {
          "output_type": "execute_result",
          "data": {
            "text/plain": [
              "<keras.callbacks.History at 0x7f98fe97fdd0>"
            ]
          },
          "metadata": {},
          "execution_count": 16
        }
      ]
    },
    {
      "cell_type": "code",
      "source": [
        "model.save(\"/content/drive/MyDrive/IBM ASSIGNMENT 3/flowers model file/flowers.h5\")"
      ],
      "metadata": {
        "id": "cG3AzpUAZOE0"
      },
      "execution_count": 17,
      "outputs": []
    }
  ]
}